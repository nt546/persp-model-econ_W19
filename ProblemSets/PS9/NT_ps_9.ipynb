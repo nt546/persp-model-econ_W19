{
 "cells": [
  {
   "cell_type": "markdown",
   "metadata": {},
   "source": [
    "# Problem Set #9\n",
    "# MACS 30150, Dr. Evans"
   ]
  },
  {
   "cell_type": "markdown",
   "metadata": {},
   "source": [
    "# Submitted by- Nipun Thakurele"
   ]
  },
  {
   "cell_type": "markdown",
   "metadata": {},
   "source": [
    "## Problem 1"
   ]
  },
  {
   "cell_type": "code",
   "execution_count": 18,
   "metadata": {},
   "outputs": [],
   "source": [
    "import pandas as pd\n",
    "import seaborn as sns\n",
    "import matplotlib.pyplot as plt\n",
    "from sklearn.linear_model import LogisticRegression\n",
    "from scipy.stats import uniform as sp_uniform, randint as sp_randint\n",
    "from sklearn.model_selection import RandomizedSearchCV\n",
    "from sklearn.ensemble import RandomForestClassifier\n",
    "from sklearn.svm import SVC\n",
    "from sklearn.neural_network import MLPClassifier\n",
    "import warnings\n",
    "warnings.filterwarnings(\"ignore\")"
   ]
  },
  {
   "cell_type": "markdown",
   "metadata": {},
   "source": [
    "## Problem 1(a)"
   ]
  },
  {
   "cell_type": "code",
   "execution_count": 19,
   "metadata": {},
   "outputs": [
    {
     "data": {
      "image/png": "[encoded data removed]",
      "text/plain": [
       "<Figure size 405.625x360 with 1 Axes>"
      ]
     },
     "metadata": {
      "needs_background": "light"
     },
     "output_type": "display_data"
    }
   ],
   "source": [
    "url = 'https://raw.githubusercontent.com/UC-MACSS/persp-model-econ_W19/master/ProblemSets/PS9/data/strongdrink.txt'\n",
    "df = pd.read_csv(url)\n",
    "df.head()\n",
    "#df['cultivar'].value_counts()\n",
    "\n",
    "# Use the 'hue' argument to provide a factor variable\n",
    "sns.lmplot( x='alco', y='color_int', data=df, fit_reg=False, hue='cultivar', legend=True)\n",
    " \n",
    "# Move the legend to an empty part of the plot\n",
    "plt.legend(loc='lower right')\n",
    " \n",
    "plt.show()"
   ]
  },
  {
   "cell_type": "markdown",
   "metadata": {},
   "source": [
    "## Problem 1(b)"
   ]
  },
  {
   "cell_type": "code",
   "execution_count": 20,
   "metadata": {},
   "outputs": [
    {
     "name": "stdout",
     "output_type": "stream",
     "text": [
      "RandBestParams1= {'C': 2.665871587495725, 'penalty': 'l1'} \n",
      "\n",
      "RandBestScore1= 0.11931818181818182\n"
     ]
    }
   ],
   "source": [
    "X = df[['alco', 'malic', 'tot_phen', 'color_int']]\n",
    "y = df['cultivar']\n",
    "\n",
    "LogReg = LogisticRegression()\n",
    "param_dist1 = {'penalty': ['l1', 'l2'],\n",
    "               'C': sp_uniform(0.1, 10.0)}\n",
    "random_search1 = RandomizedSearchCV(LogReg, param_distributions=param_dist1, n_iter=200,\n",
    "                                    n_jobs=-1, cv=5, random_state=25, scoring='neg_mean_squared_error')\n",
    "random_search1.fit(X, y)\n",
    "\n",
    "#print('RandBestEstimator1=', random_search1.best_estimator_, \"\\n\")\n",
    "print('RandBestParams1=', random_search1.best_params_, \"\\n\")\n",
    "print('RandBestScore1=', -random_search1.best_score_)"
   ]
  },
  {
   "cell_type": "markdown",
   "metadata": {},
   "source": [
    "## Problem 1(c)"
   ]
  },
  {
   "cell_type": "code",
   "execution_count": 21,
   "metadata": {},
   "outputs": [
    {
     "name": "stdout",
     "output_type": "stream",
     "text": [
      "RandBestParams2= {'max_depth': 3, 'max_features': 1, 'min_samples_leaf': 2, 'min_samples_split': 11, 'n_estimators': 192} \n",
      "\n",
      "RandBestScore2= 0.13636363636363635\n"
     ]
    }
   ],
   "source": [
    "random_forest = RandomForestClassifier(bootstrap=True, oob_score=True)\n",
    "\n",
    "param_dist2 = { 'n_estimators': sp_randint(10, 200),\n",
    "                'max_depth': sp_randint(2, 4),\n",
    "                'min_samples_split': sp_randint(2, 20),\n",
    "                'min_samples_leaf': sp_randint(2, 20),\n",
    "                'max_features': sp_randint(1, 4)}\n",
    "\n",
    "random_search2 = RandomizedSearchCV(random_forest, param_distributions=param_dist2, n_iter=200,\n",
    "                                    n_jobs=-1, cv=5, random_state=25, scoring='neg_mean_squared_error')\n",
    "random_search2.fit(X, y)\n",
    "\n",
    "#print('RandBestEstimator2=', random_search2.best_estimator_, \"\\n\")\n",
    "print('RandBestParams2=', random_search2.best_params_, \"\\n\")\n",
    "print('RandBestScore2=', -random_search2.best_score_)"
   ]
  },
  {
   "cell_type": "markdown",
   "metadata": {},
   "source": [
    "## Problem 1(d)"
   ]
  },
  {
   "cell_type": "code",
   "execution_count": 22,
   "metadata": {},
   "outputs": [
    {
     "name": "stdout",
     "output_type": "stream",
     "text": [
      "RandBestParams3= {'C': 3.3605112613782553, 'gamma': 'scale', 'shrinking': True} \n",
      "\n",
      "RandBestScore3= 0.14772727272727273\n"
     ]
    }
   ],
   "source": [
    "svm_classifier = SVC(kernel='rbf')\n",
    "\n",
    "param_dist3 = { 'C': sp_uniform(loc=0.1, scale=10.0),\n",
    "                'gamma': ['scale', 'auto'],\n",
    "                'shrinking': [True, False]}\n",
    "\n",
    "random_search3 = RandomizedSearchCV(svm_classifier, param_distributions=param_dist3, n_iter=200,\n",
    "                                    n_jobs=-1, cv=5, random_state=25, scoring='neg_mean_squared_error')\n",
    "\n",
    "random_search3.fit(X, y)\n",
    "\n",
    "#print('RandBestEstimator3=', random_search3.best_estimator_, \"\\n\")\n",
    "print('RandBestParams3=', random_search3.best_params_, \"\\n\")\n",
    "print('RandBestScore3=', -random_search3.best_score_)\n"
   ]
  },
  {
   "cell_type": "markdown",
   "metadata": {},
   "source": [
    "## Problem 1(e)"
   ]
  },
  {
   "cell_type": "code",
   "execution_count": 23,
   "metadata": {},
   "outputs": [
    {
     "name": "stdout",
     "output_type": "stream",
     "text": [
      "RandBestParams4= {'activation': 'relu', 'alpha': 0.23318052236376277, 'hidden_layer_sizes': 18} \n",
      "\n",
      "RandBestScore4= 0.09090909090909091\n"
     ]
    }
   ],
   "source": [
    "mhl_nn = MLPClassifier(solver='lbfgs')\n",
    "\n",
    "param_dist4 = {'hidden_layer_sizes': sp_randint(1, 100),\n",
    "                'activation': ['logistic', 'relu'],\n",
    "                'alpha': sp_uniform(0.1, 10.0)}\n",
    "\n",
    "random_search4 = RandomizedSearchCV(mhl_nn, param_distributions=param_dist4, n_iter=200,\n",
    "                                    n_jobs=-1, cv=5, random_state=25, scoring='neg_mean_squared_error')\n",
    "random_search4.fit(X, y)\n",
    "\n",
    "#print('RandBestEstimator4=', random_search4.best_estimator_, \"\\n\")\n",
    "print('RandBestParams4=', random_search4.best_params_, \"\\n\")\n",
    "print('RandBestScore4=', -random_search4.best_score_)\n",
    "\n"
   ]
  },
  {
   "cell_type": "markdown",
   "metadata": {},
   "source": [
    "## Problem 1(f)"
   ]
  },
  {
   "cell_type": "markdown",
   "metadata": {},
   "source": [
    "The classifier models and their MSE (approximately) are as follows: <br>\n",
    "&nbsp;&nbsp;    Random Forest: 0.136 <br>\n",
    "&nbsp;&nbsp;    Support Vector Machines: 0.147 <br>\n",
    "&nbsp;&nbsp;    Multiple hidden layer Neural Network: 0.090 <br>\n",
    "\n",
    "Out of the three classifier models computed above, multiple hidden layer neural network model is the best\n",
    "predictor of cutivar as it has the lowest MSE of all the three models."
   ]
  }
 ],
 "metadata": {
  "kernelspec": {
   "display_name": "Python 3",
   "language": "python",
   "name": "python3"
  },
  "language_info": {
   "codemirror_mode": {
    "name": "ipython",
    "version": 3
   },
   "file_extension": ".py",
   "mimetype": "text/x-python",
   "name": "python",
   "nbconvert_exporter": "python",
   "pygments_lexer": "ipython3",
   "version": "3.7.1"
  }
 },
 "nbformat": 4,
 "nbformat_minor": 2
}
